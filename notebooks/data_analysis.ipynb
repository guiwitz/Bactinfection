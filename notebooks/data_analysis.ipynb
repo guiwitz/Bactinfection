{
 "cells": [
  {
   "cell_type": "code",
   "execution_count": null,
   "metadata": {},
   "outputs": [],
   "source": [
    "#%load_ext autoreload\n",
    "#%autoreload 2\n",
    "\n",
    "import warnings\n",
    "warnings.filterwarnings(\"ignore\")\n",
    "\n",
    "import ipywidgets as ipw\n",
    "from bactinfection import Analysis\n",
    "%gui qt5"
   ]
  },
  {
   "cell_type": "code",
   "execution_count": null,
   "metadata": {},
   "outputs": [],
   "source": [
    "analysis = Analysis()"
   ]
  },
  {
   "cell_type": "code",
   "execution_count": null,
   "metadata": {
    "scrolled": false
   },
   "outputs": [],
   "source": [
    "ipw.VBox(\n",
    "         [ipw.HTML('<font size=\"3\"><b>Messages<b></font>'),analysis.out,\n",
    "          ipw.HTML('<font size=\"3\"><b>Change default path<b></font>'),analysis.default_path_text,\n",
    "          analysis.default_path_button, analysis.default_path_from_browser_button,\n",
    "          ipw.HTML('<font size=\"3\"><b>Select experiment folder<b></font>'),\n",
    "          ipw.HBox([analysis.folders.file_list, analysis.folders.refresh_button]),\n",
    "          ipw.HBox([ipw.HTML('<font size=\"2\"><b>Specify segmentation<b></font>'),analysis.saveto_widget,analysis.load_button]),\n",
    "          ipw.HTML('<font size=\"3\"><b>Visualize sementation<b></font>'),\n",
    "          analysis.show_analyzed_button,\n",
    "          ipw.HTML('<font size=\"3\"><b>Channel histogram<b></font>'),\n",
    "          ipw.HBox([analysis.sel_channel,analysis.hour_select,analysis.button_plotbyhour]),\n",
    "          analysis.bin_width,\n",
    "         analysis.out_plot,\n",
    "          ipw.HTML('<font size=\"3\"><b>Time curve<b></font>'),\n",
    "          ipw.HBox([\n",
    "              #analysis.sel_channel_time, \n",
    "              analysis.plot_time_curve_button, \n",
    "              analysis.save_time_curve_plot_button]),\n",
    "         analysis.out_plot2])"
   ]
  },
  {
   "cell_type": "code",
   "execution_count": null,
   "metadata": {},
   "outputs": [],
   "source": []
  }
 ],
 "metadata": {
  "kernelspec": {
   "display_name": "Python 3",
   "language": "python",
   "name": "python3"
  },
  "language_info": {
   "codemirror_mode": {
    "name": "ipython",
    "version": 3
   },
   "file_extension": ".py",
   "mimetype": "text/x-python",
   "name": "python",
   "nbconvert_exporter": "python",
   "pygments_lexer": "ipython3",
   "version": "3.6.10"
  },
  "toc": {
   "base_numbering": 1,
   "nav_menu": {},
   "number_sections": false,
   "sideBar": true,
   "skip_h1_title": false,
   "title_cell": "Table of Contents",
   "title_sidebar": "Contents",
   "toc_cell": false,
   "toc_position": {},
   "toc_section_display": true,
   "toc_window_display": true
  }
 },
 "nbformat": 4,
 "nbformat_minor": 4
}
