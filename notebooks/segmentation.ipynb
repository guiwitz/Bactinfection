{
 "cells": [
  {
   "cell_type": "code",
   "execution_count": null,
   "metadata": {},
   "outputs": [],
   "source": [
    "#%load_ext autoreload\n",
    "#%autoreload 2\n",
    "\n",
    "import warnings\n",
    "warnings.filterwarnings(\"ignore\")\n",
    "\n",
    "import ipywidgets as ipw\n",
    "from bactinfection import Gui\n",
    "%gui qt5"
   ]
  },
  {
   "cell_type": "code",
   "execution_count": null,
   "metadata": {},
   "outputs": [],
   "source": [
    "gui = Gui()"
   ]
  },
  {
   "cell_type": "code",
   "execution_count": null,
   "metadata": {
    "scrolled": false
   },
   "outputs": [],
   "source": [
    "grid = ipw.GridspecLayout(2,5,width = '10')\n",
    "grid[0,0] = gui.load_button\n",
    "grid[0,1] = gui.save_button\n",
    "grid[1,0] = gui.analyze_button\n",
    "grid[1,1] = gui.show_button\n",
    "grid1 = ipw.VBox([ipw.HTML('<font size=\"3\"><b>Messages<b></font>'),gui.out,\n",
    "                  ipw.HTML('<font size=\"3\"><b>Change default path<b></font>'),gui.default_path_text,\n",
    "                  gui.default_path_button,gui.default_path_from_browser_button,\n",
    "                  ipw.HTML('<font size=\"3\"><b>Folder selection<b></font>'),\n",
    "                  ipw.HBox([gui.folders.file_list, gui.folders.refresh_button]),\n",
    "                  ipw.HBox([gui.zoom_on_off,gui.out_zoom]),\n",
    "                  ipw.HTML('<font size=\"3\"><b>Name of folder where to save to/load from<b></font>'),\n",
    "                  gui.saveto_widget,\n",
    "                  ipw.HTML('<font size=\"3\"><b>Nuclei Segmentation mode<b></font>'),\n",
    "                  ipw.HBox([gui.seg_type,gui.out_seg]),\n",
    "                  ipw.HTML('<font size=\"3\"><b>Assign channels<b></font>'),\n",
    "                  gui.actin_on_off,\n",
    "                  gui.channel_field,\n",
    "                  gui.out_channels,\n",
    "                  ipw.HTML('<font size=\"3\"><b>Post processing<b></font>'),\n",
    "                  ipw.VBox([gui.minsize_field,gui.fillholes_checks,gui.what_to_keep])\n",
    "          \n",
    "         ])\n",
    "\n",
    "display(gui.folders.out,grid1, grid)"
   ]
  },
  {
   "cell_type": "code",
   "execution_count": null,
   "metadata": {},
   "outputs": [],
   "source": []
  }
 ],
 "metadata": {
  "kernelspec": {
   "display_name": "Python 3",
   "language": "python",
   "name": "python3"
  },
  "language_info": {
   "codemirror_mode": {
    "name": "ipython",
    "version": 3
   },
   "file_extension": ".py",
   "mimetype": "text/x-python",
   "name": "python",
   "nbconvert_exporter": "python",
   "pygments_lexer": "ipython3",
   "version": "3.6.11"
  },
  "toc": {
   "base_numbering": 1,
   "nav_menu": {},
   "number_sections": false,
   "sideBar": true,
   "skip_h1_title": false,
   "title_cell": "Table of Contents",
   "title_sidebar": "Contents",
   "toc_cell": false,
   "toc_position": {},
   "toc_section_display": true,
   "toc_window_display": true
  },
  "varInspector": {
   "cols": {
    "lenName": 16,
    "lenType": 16,
    "lenVar": 40
   },
   "kernels_config": {
    "python": {
     "delete_cmd_postfix": "",
     "delete_cmd_prefix": "del ",
     "library": "var_list.py",
     "varRefreshCmd": "print(var_dic_list())"
    },
    "r": {
     "delete_cmd_postfix": ") ",
     "delete_cmd_prefix": "rm(",
     "library": "var_list.r",
     "varRefreshCmd": "cat(var_dic_list()) "
    }
   },
   "types_to_exclude": [
    "module",
    "function",
    "builtin_function_or_method",
    "instance",
    "_Feature"
   ],
   "window_display": false
  }
 },
 "nbformat": 4,
 "nbformat_minor": 4
}
