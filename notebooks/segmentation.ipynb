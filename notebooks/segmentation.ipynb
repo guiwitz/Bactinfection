{
 "cells": [
  {
   "cell_type": "code",
   "execution_count": null,
   "metadata": {},
   "outputs": [],
   "source": [
    "#%load_ext autoreload\n",
    "#%autoreload 2\n",
    "\n",
    "import warnings\n",
    "warnings.filterwarnings(\"ignore\")\n",
    "\n",
    "import ipywidgets as ipw\n",
    "from bactinfection import Gui\n",
    "%gui qt5"
   ]
  },
  {
   "cell_type": "code",
   "execution_count": null,
   "metadata": {},
   "outputs": [],
   "source": [
    "gui = Gui()"
   ]
  },
  {
   "cell_type": "code",
   "execution_count": null,
   "metadata": {
    "scrolled": false
   },
   "outputs": [],
   "source": [
    "grid = ipw.GridspecLayout(2,5,width = '10')\n",
    "grid[0,0] = gui.load_button\n",
    "grid[0,1] = gui.save_button\n",
    "grid[1,0] = gui.analyze_button\n",
    "grid[1,1] = gui.show_button\n",
    "grid1 = ipw.VBox([ipw.HTML('<font size=\"3\"><b>Messages<b></font>'),gui.out,\n",
    "                  ipw.HTML('<font size=\"3\"><b>Change default path<b></font>'),gui.default_path_text,\n",
    "                  gui.default_path_button,gui.default_path_from_browser_button,\n",
    "                  ipw.HTML('<font size=\"3\"><b>Folder selection<b></font>'),\n",
    "                  ipw.HBox([gui.folders.file_list, gui.folders.refresh_button]),\n",
    "                  ipw.HBox([gui.zoom_on_off,gui.out_zoom]),\n",
    "                  ipw.HTML('<font size=\"3\"><b>Name of folder where to save to/load from<b></font>'),\n",
    "                  gui.saveto_widget,\n",
    "                  ipw.HTML('<font size=\"3\"><b>Nuclei Segmentation mode<b></font>'),\n",
    "                  ipw.HBox([gui.seg_type,gui.out_seg]),\n",
    "                  ipw.HTML('<font size=\"3\"><b>Assign channels<b></font>'),\n",
    "                  gui.channel_field,\n",
    "                  ipw.HBox([\n",
    "                      ipw.VBox([ipw.HTML('<b>Nuclei segm. channel<b>'),gui.nucl_channel_seg]),\n",
    "                      ipw.VBox([ipw.HTML('<b>Bacteria segm. channel<b>'),gui.bact_channel_seg]),\n",
    "                      ipw.VBox([ipw.HTML('<b>Cell segm. channel<b>'),gui.cell_channel_seg]),\n",
    "                      ipw.VBox([ipw.HTML('<b>Actin segm. channel<b>'),gui.actin_channel_seg])\n",
    "                  ]),\n",
    "                  ipw.HTML('<font size=\"3\"><b>Post processing<b></font>'),\n",
    "                  ipw.VBox([gui.minsize_field,gui.fillholes_checks])\n",
    "          \n",
    "         ])\n",
    "\n",
    "display(gui.folders.out,grid1, grid)"
   ]
  },
  {
   "cell_type": "code",
   "execution_count": null,
   "metadata": {},
   "outputs": [],
   "source": []
  }
 ],
 "metadata": {
  "kernelspec": {
   "display_name": "Python 3",
   "language": "python",
   "name": "python3"
  },
  "language_info": {
   "codemirror_mode": {
    "name": "ipython",
    "version": 3
   },
   "file_extension": ".py",
   "mimetype": "text/x-python",
   "name": "python",
   "nbconvert_exporter": "python",
   "pygments_lexer": "ipython3",
   "version": "3.6.10"
  },
  "toc": {
   "base_numbering": 1,
   "nav_menu": {},
   "number_sections": false,
   "sideBar": true,
   "skip_h1_title": false,
   "title_cell": "Table of Contents",
   "title_sidebar": "Contents",
   "toc_cell": false,
   "toc_position": {},
   "toc_section_display": true,
   "toc_window_display": true
  }
 },
 "nbformat": 4,
 "nbformat_minor": 4
}
