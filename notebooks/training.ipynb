{
 "cells": [
  {
   "cell_type": "code",
   "execution_count": null,
   "metadata": {},
   "outputs": [],
   "source": [
    "#%load_ext autoreload\n",
    "#%autoreload 2\n",
    "\n",
    "import ipywidgets as ipw\n",
    "from bactinfection import Annotate\n",
    "\n",
    "%gui qt5"
   ]
  },
  {
   "cell_type": "code",
   "execution_count": null,
   "metadata": {},
   "outputs": [],
   "source": [
    "gui = Annotate()"
   ]
  },
  {
   "cell_type": "code",
   "execution_count": null,
   "metadata": {},
   "outputs": [],
   "source": [
    "ipw.VBox([ipw.HTML('<font size=\"3\"><b>Messages<b></font>'),gui.out,\n",
    "          ipw.HTML('<font size=\"3\"><b>Change default path<b></font>'),gui.default_path_text,\n",
    "          gui.default_path_button,gui.default_path_from_browser_button,\n",
    "          ipw.HTML('<font size=\"3\"><b>Select experiment folder<b></font>'),\n",
    "          ipw.HBox([gui.folders.file_list, gui.folders.refresh_button]),\n",
    "          ipw.HTML('<font size=\"3\"><b>Give channel names<b></font>'),\n",
    "          gui.channel_field,\n",
    "          ipw.HBox([ipw.VBox([ipw.HTML('<font size=\"3\"><b>Select Nuclei channel<b></font>'),gui.nucl_channel_seg]),\n",
    "                    ipw.VBox([ipw.HTML('<font size=\"3\"><b>Post processing<b></font>'),gui.minsize_field, gui.fillholes_checks])]),\n",
    "          gui.button_start,gui.button_save,gui.button_load,\n",
    "         ])"
   ]
  },
  {
   "cell_type": "code",
   "execution_count": null,
   "metadata": {},
   "outputs": [],
   "source": []
  }
 ],
 "metadata": {
  "kernelspec": {
   "display_name": "Python 3",
   "language": "python",
   "name": "python3"
  },
  "language_info": {
   "codemirror_mode": {
    "name": "ipython",
    "version": 3
   },
   "file_extension": ".py",
   "mimetype": "text/x-python",
   "name": "python",
   "nbconvert_exporter": "python",
   "pygments_lexer": "ipython3",
   "version": "3.8.0"
  }
 },
 "nbformat": 4,
 "nbformat_minor": 4
}
