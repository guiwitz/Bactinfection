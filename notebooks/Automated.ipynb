{
 "cells": [
  {
   "cell_type": "code",
   "execution_count": 1,
   "metadata": {},
   "outputs": [],
   "source": [
    "#%load_ext autoreload\n",
    "#%autoreload 2"
   ]
  },
  {
   "cell_type": "code",
   "execution_count": 46,
   "metadata": {},
   "outputs": [],
   "source": [
    "from oirpy.oirreader import Oirreader\n",
    "from bactinfection import segmentation, automated\n",
    "import matplotlib.pyplot as plt\n",
    "import skimage.io\n",
    "import numpy as np\n",
    "\n",
    "from pathlib import Path\n",
    "import re\n",
    "import os\n",
    "\n",
    "import dask\n",
    "import dask.distributed"
   ]
  },
  {
   "cell_type": "code",
   "execution_count": 47,
   "metadata": {},
   "outputs": [],
   "source": [
    "client = dask.distributed.Client()"
   ]
  },
  {
   "cell_type": "markdown",
   "metadata": {},
   "source": [
    "### Specify the main folder to analyze and the main folder where to store analyzed data"
   ]
  },
  {
   "cell_type": "code",
   "execution_count": 41,
   "metadata": {},
   "outputs": [],
   "source": [
    "data_folder_base = Path('/Volumes/Samsung_T5/Oevermann/Listeria_Image_Analysis/Leticia')\n",
    "save_folder_base = Path('/Volumes/Samsung_T5/Oevermann/Listeria_Image_Analysis/Results_Leticia')"
   ]
  },
  {
   "cell_type": "markdown",
   "metadata": {},
   "source": [
    "### Find all directories containing oir files "
   ]
  },
  {
   "cell_type": "code",
   "execution_count": 42,
   "metadata": {},
   "outputs": [],
   "source": [
    "all_dirs = []\n",
    "for dirName, subdirList, fileList in os.walk(data_folder_base):\n",
    "    if len(list(Path(dirName).glob('*.oir'))) > 0:\n",
    "           all_dirs.append(dirName)"
   ]
  },
  {
   "cell_type": "code",
   "execution_count": 54,
   "metadata": {},
   "outputs": [],
   "source": [
    "# not used\n",
    "# zoom_regexp = [[x, re.findall(\"\\_(\\d+)x[\\_|\\.].*\", x.name)] for x in all_files]"
   ]
  },
  {
   "cell_type": "markdown",
   "metadata": {},
   "source": [
    "### Go through all directories and run the full analysis on each image\n",
    "\n",
    "Each single analysis is created as a dask.delayed object and added to a list. The full computation is effectively executed after that with ```dask.compute()```."
   ]
  },
  {
   "cell_type": "code",
   "execution_count": 50,
   "metadata": {},
   "outputs": [],
   "source": [
    "all_tasks = []\n",
    "for a in all_dirs[0:2]:\n",
    "    foldername = Path(a)\n",
    "    save_folder = save_folder_base.joinpath(foldername.relative_to(data_folder_base))\n",
    "    if not save_folder.is_dir():\n",
    "        save_folder.mkdir(parents=True)\n",
    "    all_files = [x for x in foldername.glob(\"*.oir\")]\n",
    "    \n",
    "    for f in all_files[0:2]:\n",
    "        task = dask.delayed(automated.single_image_analysis)(\n",
    "        filepath=f,\n",
    "        diameter=60,\n",
    "        save_folder=save_folder,\n",
    "        nucl_channel='DAPI',\n",
    "        cell_channel='Alexa Fluor 633',\n",
    "        bact_channel='Alexa Fluor 488',\n",
    "        actin_channel='Alexa Fluor 633',\n",
    "        bact_width=5,\n",
    "        bact_len=5,\n",
    "        corr_threshold=0.5,\n",
    "        min_corr_vol=3,\n",
    "        n_std=8\n",
    "        )\n",
    "        all_tasks.append(task)"
   ]
  },
  {
   "cell_type": "code",
   "execution_count": 52,
   "metadata": {},
   "outputs": [],
   "source": [
    "res = dask.compute(all_tasks)"
   ]
  }
 ],
 "metadata": {
  "kernelspec": {
   "display_name": "Python 3",
   "language": "python",
   "name": "python3"
  },
  "language_info": {
   "codemirror_mode": {
    "name": "ipython",
    "version": 3
   },
   "file_extension": ".py",
   "mimetype": "text/x-python",
   "name": "python",
   "nbconvert_exporter": "python",
   "pygments_lexer": "ipython3",
   "version": "3.6.11"
  }
 },
 "nbformat": 4,
 "nbformat_minor": 4
}
