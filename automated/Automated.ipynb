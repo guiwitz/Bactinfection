{
 "cells": [
  {
   "cell_type": "code",
   "execution_count": null,
   "metadata": {},
   "outputs": [],
   "source": [
    "#%load_ext autoreload\n",
    "#%autoreload 2"
   ]
  },
  {
   "cell_type": "code",
   "execution_count": null,
   "metadata": {},
   "outputs": [],
   "source": [
    "from oirpy.oirreader import Oirreader\n",
    "from bactinfection import segmentation, automated\n",
    "import matplotlib.pyplot as plt\n",
    "import skimage.io\n",
    "import numpy as np\n",
    "\n",
    "from pathlib import Path\n",
    "import re\n",
    "import os\n",
    "\n",
    "import dask\n",
    "from dask.distributed import Client\n",
    "from dask_jobqueue import SLURMCluster\n"
   ]
  },
  {
   "cell_type": "code",
   "execution_count": null,
   "metadata": {},
   "outputs": [],
   "source": [
    "#if __name__ == '__main__':"
   ]
  },
  {
   "cell_type": "code",
   "execution_count": null,
   "metadata": {},
   "outputs": [],
   "source": [
    "client = Client()#'tcp://127.0.0.1:55963')\n",
    "\n",
    "#cluster = SLURMCluster(cores=1, memory='4GB', walltime='3:00:00')\n",
    "#client = Client(cluster)\n",
    "#cluster.scale(jobs=20)"
   ]
  },
  {
   "cell_type": "markdown",
   "metadata": {},
   "source": [
    "### Specify the main folder to analyze and the main folder where to store analyzed data"
   ]
  },
  {
   "cell_type": "code",
   "execution_count": null,
   "metadata": {},
   "outputs": [],
   "source": [
    "#data_folder_base = Path('/Volumes/Samsung_T5/Oevermann/Listeria_Image_Analysis/Leticia')\n",
    "#save_folder_base = Path('/Volumes/Samsung_T5/Oevermann/Listeria_Image_Analysis/Results_Leticia3/')\n",
    "#nucl_model_type = 'nuclei'\n",
    "#diameter_nucl = 60\n",
    "#nucl_channel='DAPI'\n",
    "#cell_channel='Alexa Fluor 633'\n",
    "#masking='cell_no_nuclei'\n",
    "\n",
    "data_folder_base = Path('/Volumes/Samsung_T5/Oevermann/Listeria_Image_Analysis/Stefano')\n",
    "save_folder_base = Path('/Volumes/Samsung_T5/Oevermann/Listeria_Image_Analysis/Results_Stefano')\n",
    "nucl_model_type = 'cyto'\n",
    "diameter_nucl = 90\n",
    "nucl_channel='Alexa Fluor 633'\n",
    "cell_channel=None\n",
    "masking='nuclei'\n",
    "\n",
    "#data_folder_base = Path('/storage/research/mic_rs/Oevermann/Listeria_Image_Analysis/Leticia')\n",
    "#save_folder_base = Path('/storage/research/mic_rs/Oevermann/Results_Leticia_actin')\n"
   ]
  },
  {
   "cell_type": "markdown",
   "metadata": {},
   "source": [
    "### Find all directories containing oir files "
   ]
  },
  {
   "cell_type": "code",
   "execution_count": null,
   "metadata": {},
   "outputs": [],
   "source": [
    "all_dirs = []\n",
    "for dirName, subdirList, fileList in os.walk(data_folder_base):\n",
    "    if len(list(Path(dirName).glob('*.oir'))) > 0:\n",
    "        all_dirs.append(dirName)"
   ]
  },
  {
   "cell_type": "markdown",
   "metadata": {},
   "source": [
    "### Go through all directories and run the full analysis on each image\n",
    "\n",
    "Each single analysis is created as a dask.delayed object and added to a list. The full computation is effectively executed after that with ```dask.compute()```."
   ]
  },
  {
   "cell_type": "code",
   "execution_count": null,
   "metadata": {},
   "outputs": [],
   "source": [
    "all_tasks = []\n",
    "for a in all_dirs[0:2]:\n",
    "    foldername = Path(a)\n",
    "    save_folder = save_folder_base.joinpath(foldername.relative_to(data_folder_base))\n",
    "    if not save_folder.is_dir():\n",
    "        save_folder.mkdir(parents=True)\n",
    "    all_files = [x for x in foldername.glob(\"*.oir\")]\n",
    "    if (masking == 'cell') or (masking == 'cell_no_nuclei'):\n",
    "        all_files = [x for x in all_files if save_folder.joinpath(x.name.replace('.oir', '_cell_seg.tif')).is_file()]\n",
    "    \n",
    "    if len(all_files) == 0:\n",
    "        continue\n",
    "        \n",
    "    if all_files[0].name.lower().find('macro') > 0:\n",
    "        diameter_cell = 140\n",
    "    else:\n",
    "        diameter_cell = 300\n",
    "        \n",
    "    for f in all_files[0::5]:\n",
    "        task = dask.delayed(automated.single_image_analysis)(\n",
    "        filepath=f,\n",
    "        diameter_nucl=diameter_nucl,\n",
    "        diameter_cell=diameter_cell,\n",
    "        save_folder=save_folder,\n",
    "        nucl_channel=nucl_channel,\n",
    "        cell_channel=cell_channel,\n",
    "        bact_channel='Alexa Fluor 488',\n",
    "        actin_channel='Alexa Fluor 633',\n",
    "        bact_width=5,\n",
    "        bact_len=5,\n",
    "        corr_threshold=0.5,\n",
    "        min_corr_vol=3,\n",
    "        n_std=10,\n",
    "        nucl_model_type=nucl_model_type,\n",
    "        masking=masking\n",
    "        )\n",
    "        all_tasks.append(task)"
   ]
  },
  {
   "cell_type": "code",
   "execution_count": null,
   "metadata": {},
   "outputs": [],
   "source": [
    "res = dask.compute(all_tasks)"
   ]
  },
  {
   "cell_type": "code",
   "execution_count": null,
   "metadata": {},
   "outputs": [],
   "source": []
  }
 ],
 "metadata": {
  "kernelspec": {
   "display_name": "Python 3",
   "language": "python",
   "name": "python3"
  },
  "language_info": {
   "codemirror_mode": {
    "name": "ipython",
    "version": 3
   },
   "file_extension": ".py",
   "mimetype": "text/x-python",
   "name": "python",
   "nbconvert_exporter": "python",
   "pygments_lexer": "ipython3",
   "version": "3.7.8"
  },
  "toc": {
   "base_numbering": 1,
   "nav_menu": {},
   "number_sections": false,
   "sideBar": true,
   "skip_h1_title": false,
   "title_cell": "Table of Contents",
   "title_sidebar": "Contents",
   "toc_cell": false,
   "toc_position": {},
   "toc_section_display": true,
   "toc_window_display": true
  },
  "varInspector": {
   "cols": {
    "lenName": 16,
    "lenType": 16,
    "lenVar": 40
   },
   "kernels_config": {
    "python": {
     "delete_cmd_postfix": "",
     "delete_cmd_prefix": "del ",
     "library": "var_list.py",
     "varRefreshCmd": "print(var_dic_list())"
    },
    "r": {
     "delete_cmd_postfix": ") ",
     "delete_cmd_prefix": "rm(",
     "library": "var_list.r",
     "varRefreshCmd": "cat(var_dic_list()) "
    }
   },
   "types_to_exclude": [
    "module",
    "function",
    "builtin_function_or_method",
    "instance",
    "_Feature"
   ],
   "window_display": false
  }
 },
 "nbformat": 4,
 "nbformat_minor": 4
}
